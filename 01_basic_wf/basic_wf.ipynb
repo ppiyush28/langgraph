{
 "cells": [
  {
   "cell_type": "code",
   "execution_count": 8,
   "metadata": {},
   "outputs": [
    {
     "name": "stdout",
     "output_type": "stream",
     "text": [
      "{'weight': 70, 'height': 1.75, 'bmi': 22.86}\n"
     ]
    }
   ],
   "source": [
    "from langgraph.graph import StateGraph, START , END\n",
    "from typing import TypedDict\n",
    "\n",
    "#define state model\n",
    "class BMIState(TypedDict):\n",
    "    weight: float\n",
    "    height: float\n",
    "    bmi: float\n",
    "\n",
    "\n",
    "#define state graph\n",
    "graph = StateGraph(BMIState)\n",
    "\n",
    "def calculate_bmi(state: BMIState) -> BMIState:\n",
    "    # state['bmi'] = state['weight'] / (state['height'] ** 2)\n",
    "    # return state\n",
    "    weight = state['weight']\n",
    "    height = state['height']\n",
    "\n",
    "    bmi = weight/(height**2)\n",
    "\n",
    "    state['bmi'] = round(bmi, 2)\n",
    "\n",
    "    return state\n",
    "\n",
    "\n",
    "#add nodes to graph\n",
    "graph.add_node('calculate_bmi', calculate_bmi, description=\"Start of the workflow\")\n",
    "\n",
    "#add edges to start\n",
    "graph.add_edge(START, 'calculate_bmi')\n",
    "graph.add_edge('calculate_bmi', END)\n",
    "\n",
    "#compiple graph\n",
    "\n",
    "workflow =graph.compile()\n",
    "\n",
    "#execute graph\n",
    "initial_state = {'weight': 70, 'height': 1.75}\n",
    "output_state = workflow.invoke(initial_state)\n",
    "print(output_state)\n",
    "\n",
    "\n",
    "\n",
    "# #save graph\n",
    "# graph.save(\"basic_workflow.json\")"
   ]
  },
  {
   "cell_type": "code",
   "execution_count": 10,
   "metadata": {},
   "outputs": [
    {
     "ename": "ModuleNotFoundError",
     "evalue": "No module named 'Ipython'",
     "output_type": "error",
     "traceback": [
      "\u001b[31m---------------------------------------------------------------------------\u001b[39m",
      "\u001b[31mModuleNotFoundError\u001b[39m                       Traceback (most recent call last)",
      "\u001b[36mCell\u001b[39m\u001b[36m \u001b[39m\u001b[32mIn[10]\u001b[39m\u001b[32m, line 2\u001b[39m\n\u001b[32m      1\u001b[39m \u001b[38;5;66;03m# #visualize graph\u001b[39;00m\n\u001b[32m----> \u001b[39m\u001b[32m2\u001b[39m \u001b[38;5;28;01mfrom\u001b[39;00m\u001b[38;5;250m \u001b[39m\u001b[34;01mIpython\u001b[39;00m\u001b[34;01m.\u001b[39;00m\u001b[34;01mdisplay\u001b[39;00m\u001b[38;5;250m \u001b[39m\u001b[38;5;28;01mimport\u001b[39;00m Image\n\u001b[32m      3\u001b[39m Image(workflow.get_graph().draw_mermaind_png())\n",
      "\u001b[31mModuleNotFoundError\u001b[39m: No module named 'Ipython'"
     ]
    }
   ],
   "source": [
    "# #visualize graph\n",
    "from Ipython.display import Image\n",
    "Image(workflow.get_graph().draw_mermaind_png())"
   ]
  },
  {
   "cell_type": "code",
   "execution_count": 6,
   "metadata": {},
   "outputs": [
    {
     "name": "stdout",
     "output_type": "stream",
     "text": [
      "Requirement already satisfied: ipython in /Users/piyushpande/Desktop/Agentic_ai/LangChain_campusx/LangGraph/langgraph/venv/lib/python3.13/site-packages (9.5.0)\n",
      "Requirement already satisfied: decorator in /Users/piyushpande/Desktop/Agentic_ai/LangChain_campusx/LangGraph/langgraph/venv/lib/python3.13/site-packages (from ipython) (5.2.1)\n",
      "Requirement already satisfied: ipython-pygments-lexers in /Users/piyushpande/Desktop/Agentic_ai/LangChain_campusx/LangGraph/langgraph/venv/lib/python3.13/site-packages (from ipython) (1.1.1)\n",
      "Requirement already satisfied: jedi>=0.16 in /Users/piyushpande/Desktop/Agentic_ai/LangChain_campusx/LangGraph/langgraph/venv/lib/python3.13/site-packages (from ipython) (0.19.2)\n",
      "Requirement already satisfied: matplotlib-inline in /Users/piyushpande/Desktop/Agentic_ai/LangChain_campusx/LangGraph/langgraph/venv/lib/python3.13/site-packages (from ipython) (0.1.7)\n",
      "Requirement already satisfied: pexpect>4.3 in /Users/piyushpande/Desktop/Agentic_ai/LangChain_campusx/LangGraph/langgraph/venv/lib/python3.13/site-packages (from ipython) (4.9.0)\n",
      "Requirement already satisfied: prompt_toolkit<3.1.0,>=3.0.41 in /Users/piyushpande/Desktop/Agentic_ai/LangChain_campusx/LangGraph/langgraph/venv/lib/python3.13/site-packages (from ipython) (3.0.52)\n",
      "Requirement already satisfied: pygments>=2.4.0 in /Users/piyushpande/Desktop/Agentic_ai/LangChain_campusx/LangGraph/langgraph/venv/lib/python3.13/site-packages (from ipython) (2.19.2)\n",
      "Requirement already satisfied: stack_data in /Users/piyushpande/Desktop/Agentic_ai/LangChain_campusx/LangGraph/langgraph/venv/lib/python3.13/site-packages (from ipython) (0.6.3)\n",
      "Requirement already satisfied: traitlets>=5.13.0 in /Users/piyushpande/Desktop/Agentic_ai/LangChain_campusx/LangGraph/langgraph/venv/lib/python3.13/site-packages (from ipython) (5.14.3)\n",
      "Requirement already satisfied: wcwidth in /Users/piyushpande/Desktop/Agentic_ai/LangChain_campusx/LangGraph/langgraph/venv/lib/python3.13/site-packages (from prompt_toolkit<3.1.0,>=3.0.41->ipython) (0.2.13)\n",
      "Requirement already satisfied: parso<0.9.0,>=0.8.4 in /Users/piyushpande/Desktop/Agentic_ai/LangChain_campusx/LangGraph/langgraph/venv/lib/python3.13/site-packages (from jedi>=0.16->ipython) (0.8.5)\n",
      "Requirement already satisfied: ptyprocess>=0.5 in /Users/piyushpande/Desktop/Agentic_ai/LangChain_campusx/LangGraph/langgraph/venv/lib/python3.13/site-packages (from pexpect>4.3->ipython) (0.7.0)\n",
      "Requirement already satisfied: executing>=1.2.0 in /Users/piyushpande/Desktop/Agentic_ai/LangChain_campusx/LangGraph/langgraph/venv/lib/python3.13/site-packages (from stack_data->ipython) (2.2.1)\n",
      "Requirement already satisfied: asttokens>=2.1.0 in /Users/piyushpande/Desktop/Agentic_ai/LangChain_campusx/LangGraph/langgraph/venv/lib/python3.13/site-packages (from stack_data->ipython) (3.0.0)\n",
      "Requirement already satisfied: pure-eval in /Users/piyushpande/Desktop/Agentic_ai/LangChain_campusx/LangGraph/langgraph/venv/lib/python3.13/site-packages (from stack_data->ipython) (0.2.3)\n"
     ]
    }
   ],
   "source": [
    "!pip install ipython"
   ]
  },
  {
   "cell_type": "code",
   "execution_count": null,
   "metadata": {},
   "outputs": [],
   "source": []
  }
 ],
 "metadata": {
  "kernelspec": {
   "display_name": "venv",
   "language": "python",
   "name": "python3"
  },
  "language_info": {
   "codemirror_mode": {
    "name": "ipython",
    "version": 3
   },
   "file_extension": ".py",
   "mimetype": "text/x-python",
   "name": "python",
   "nbconvert_exporter": "python",
   "pygments_lexer": "ipython3",
   "version": "3.13.3"
  }
 },
 "nbformat": 4,
 "nbformat_minor": 2
}
