{
 "cells": [
  {
   "cell_type": "code",
   "execution_count": 22,
   "metadata": {},
   "outputs": [],
   "source": [
    "from langgraph.graph import StateGraph, START, END\n",
    "from typing import TypedDict"
   ]
  },
  {
   "cell_type": "code",
   "execution_count": 23,
   "metadata": {},
   "outputs": [],
   "source": [
    "class BatsmanState(TypedDict):\n",
    "\n",
    "    runs : int\n",
    "    balls : int\n",
    "    fours : int\n",
    "    sixes : int \n",
    "\n",
    "    sr: float\n",
    "    bpb : float \n",
    "    boundry_percent : float\n",
    "    summary : str"
   ]
  },
  {
   "cell_type": "code",
   "execution_count": 34,
   "metadata": {},
   "outputs": [],
   "source": [
    "def calculate_sr(state: BatsmanState) -> float:\n",
    "    if state['balls'] == 0:\n",
    "        return 0.0\n",
    "    sr = (state['runs'] / state['balls']) / 100\n",
    "\n",
    "    return { \"sr\": sr }"
   ]
  },
  {
   "cell_type": "code",
   "execution_count": 35,
   "metadata": {},
   "outputs": [],
   "source": [
    "def calculate_bpb(state:BatsmanState) -> float:\n",
    "    \n",
    "    pbp = state['balls']/state['fours'] + state['sixes']\n",
    "\n",
    "\n",
    "    return { \"bpb\": pbp }"
   ]
  },
  {
   "cell_type": "code",
   "execution_count": 36,
   "metadata": {},
   "outputs": [],
   "source": [
    "def calculate_boundary_percent(state:BatsmanState) -> float:\n",
    "\n",
    "    boundry_percent =   (((state['fours'] * 4 ) + (state['sixes'] * 6 )) / state['runs']) * 100\n",
    "\n",
    "    return { \"boundry_percent\": boundry_percent }"
   ]
  },
  {
   "cell_type": "code",
   "execution_count": 44,
   "metadata": {},
   "outputs": [],
   "source": [
    "def summary(state:BatsmanState) -> str:\n",
    "\n",
    "    summary =  f\"\"\"\n",
    "    Strike Rate: {state['sr']:.2f}\n",
    "    Balls per Boundary: {state['bpb']:.2f}\n",
    "    Boundary Percentage: {state['boundry_percent']:.2f}%\n",
    "    \"\"\"\n",
    "\n",
    "    #state['summary'] = summary\n",
    "    return {'summary': summary}"
   ]
  },
  {
   "cell_type": "code",
   "execution_count": 45,
   "metadata": {},
   "outputs": [],
   "source": [
    "graph = StateGraph(BatsmanState)"
   ]
  },
  {
   "cell_type": "code",
   "execution_count": 46,
   "metadata": {},
   "outputs": [],
   "source": [
    "graph.add_node('calculate_sr', calculate_sr)\n",
    "graph.add_node('calculate_bpb', calculate_bpb)\n",
    "graph.add_node('calculate_boundary_percent', calculate_boundary_percent)\n",
    "graph.add_node('summary', summary)\n",
    "\n",
    "\n",
    "#add edges\n",
    "graph.add_edge(START, 'calculate_sr')\n",
    "graph.add_edge(START, 'calculate_bpb')\n",
    "graph.add_edge(START, 'calculate_boundary_percent')\n",
    "\n",
    "graph.add_edge('calculate_sr', 'summary')\n",
    "graph.add_edge('calculate_bpb', 'summary')\n",
    "graph.add_edge('calculate_boundary_percent', 'summary')\n",
    "\n",
    "graph.add_edge('summary', END)\n",
    "\n",
    "workflow = graph.compile()\n"
   ]
  },
  {
   "cell_type": "code",
   "execution_count": 47,
   "metadata": {},
   "outputs": [
    {
     "data": {
      "image/png": "[encoded data removed]",
      "text/plain": [
       "<langgraph.graph.state.CompiledStateGraph object at 0x111133890>"
      ]
     },
     "execution_count": 47,
     "metadata": {},
     "output_type": "execute_result"
    }
   ],
   "source": [
    "workflow"
   ]
  },
  {
   "cell_type": "code",
   "execution_count": 48,
   "metadata": {},
   "outputs": [],
   "source": [
    "initial_state = {\n",
    "    'runs': 250,\n",
    "    'balls': 200,\n",
    "    'fours': 20,\n",
    "    'sixes': 10\n",
    "}"
   ]
  },
  {
   "cell_type": "code",
   "execution_count": 49,
   "metadata": {},
   "outputs": [],
   "source": [
    "final_state = workflow.invoke(initial_state)"
   ]
  },
  {
   "cell_type": "code",
   "execution_count": 50,
   "metadata": {},
   "outputs": [
    {
     "data": {
      "text/plain": [
       "{'runs': 250,\n",
       " 'balls': 200,\n",
       " 'fours': 20,\n",
       " 'sixes': 10,\n",
       " 'sr': 0.0125,\n",
       " 'bpb': 20.0,\n",
       " 'boundry_percent': 56.00000000000001,\n",
       " 'summary': '\\n    Strike Rate: 0.01\\n    Balls per Boundary: 20.00\\n    Boundary Percentage: 56.00%\\n    '}"
      ]
     },
     "execution_count": 50,
     "metadata": {},
     "output_type": "execute_result"
    }
   ],
   "source": [
    "final_state"
   ]
  },
  {
   "cell_type": "code",
   "execution_count": null,
   "metadata": {},
   "outputs": [],
   "source": []
  }
 ],
 "metadata": {
  "kernelspec": {
   "display_name": "venv",
   "language": "python",
   "name": "python3"
  },
  "language_info": {
   "codemirror_mode": {
    "name": "ipython",
    "version": 3
   },
   "file_extension": ".py",
   "mimetype": "text/x-python",
   "name": "python",
   "nbconvert_exporter": "python",
   "pygments_lexer": "ipython3",
   "version": "3.13.3"
  }
 },
 "nbformat": 4,
 "nbformat_minor": 2
}
