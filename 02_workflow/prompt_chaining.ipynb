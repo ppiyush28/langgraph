{
 "cells": [
  {
   "cell_type": "code",
   "execution_count": 34,
   "metadata": {},
   "outputs": [],
   "source": [
    "from langgraph.graph import StateGraph, END, START\n",
    "from langchain_openai import ChatOpenAI\n",
    "from typing import TypedDict\n",
    "from dotenv import load_dotenv"
   ]
  },
  {
   "cell_type": "code",
   "execution_count": 35,
   "metadata": {},
   "outputs": [
    {
     "data": {
      "text/plain": [
       "True"
      ]
     },
     "execution_count": 35,
     "metadata": {},
     "output_type": "execute_result"
    }
   ],
   "source": [
    "load_dotenv()"
   ]
  },
  {
   "cell_type": "code",
   "execution_count": 36,
   "metadata": {},
   "outputs": [
    {
     "data": {
      "text/plain": [
       "ChatOpenAI(client=<openai.resources.chat.completions.completions.Completions object at 0x11aeac770>, async_client=<openai.resources.chat.completions.completions.AsyncCompletions object at 0x11aeacd60>, root_client=<openai.OpenAI object at 0x11aeac640>, root_async_client=<openai.AsyncOpenAI object at 0x11aeac180>, model_name='gpt-4', temperature=0.0, model_kwargs={}, openai_api_key=SecretStr('**********'))"
      ]
     },
     "execution_count": 36,
     "metadata": {},
     "output_type": "execute_result"
    }
   ],
   "source": [
    "llm = ChatOpenAI(model=\"gpt-4\", temperature=0)\n",
    "llm"
   ]
  },
  {
   "cell_type": "code",
   "execution_count": 37,
   "metadata": {},
   "outputs": [],
   "source": [
    "class BlogState(TypedDict):\n",
    "    title: str\n",
    "    outline: str\n",
    "    content: str"
   ]
  },
  {
   "cell_type": "code",
   "execution_count": 38,
   "metadata": {},
   "outputs": [],
   "source": [
    "blog = BlogState()"
   ]
  },
  {
   "cell_type": "code",
   "execution_count": 39,
   "metadata": {},
   "outputs": [],
   "source": [
    "def create_outline(state:BlogState) -> BlogState:\n",
    "\n",
    "    title = state['title']\n",
    "\n",
    "    prompt = f'genrate details outline for an blog on topic \"{title}\"'\n",
    "\n",
    "    outline = llm.invoke(prompt)\n",
    "\n",
    "    state['outline'] = outline\n",
    "    \n",
    "    return state"
   ]
  },
  {
   "cell_type": "code",
   "execution_count": 40,
   "metadata": {},
   "outputs": [],
   "source": [
    "def create_blog(state:BlogState) -> BlogState:\n",
    "    \n",
    "    title = state['title']\n",
    "    outline = state['outline']\n",
    "\n",
    "    prompt = f\"write a detailed blog on the topic '{title}' with the following outline: {outline}\"\n",
    "\n",
    "    content = llm.invoke(prompt)\n",
    "\n",
    "    state['content'] = content\n",
    "\n",
    "    return state"
   ]
  },
  {
   "cell_type": "code",
   "execution_count": 41,
   "metadata": {},
   "outputs": [
    {
     "data": {
      "image/png": "[encoded data removed]",
      "text/plain": [
       "<langgraph.graph.state.CompiledStateGraph object at 0x11ae06e90>"
      ]
     },
     "execution_count": 41,
     "metadata": {},
     "output_type": "execute_result"
    }
   ],
   "source": [
    "graph = StateGraph(BlogState)\n",
    "\n",
    "#nodes\n",
    "graph.add_node('create_outline', create_outline)\n",
    "graph.add_node('create_blog', create_blog)\n",
    "\n",
    "#edges\n",
    "\n",
    "graph.add_edge(START, 'create_outline')\n",
    "graph.add_edge('create_outline', 'create_blog')\n",
    "graph.add_edge('create_blog', END)\n",
    "\n",
    "graph.compile()"
   ]
  },
  {
   "cell_type": "code",
   "execution_count": 42,
   "metadata": {},
   "outputs": [],
   "source": [
    "workflow = graph.compile()"
   ]
  },
  {
   "cell_type": "code",
   "execution_count": 45,
   "metadata": {},
   "outputs": [
    {
     "name": "stdout",
     "output_type": "stream",
     "text": [
      "{'title': 'The Future of AI in Everyday Life', 'outline': AIMessage(content='I. Introduction\\n    A. Brief overview of AI and its current role in everyday life\\n    B. Purpose of the blog and what readers can expect to learn\\n\\nII. Understanding AI\\n    A. Definition and explanation of AI\\n    B. Brief history of AI development\\n    C. Current applications of AI in everyday life\\n\\nIII. The Future of AI in Everyday Life\\n    A. Predicted advancements in AI technology\\n    B. Potential new applications of AI in everyday life\\n        1. Home automation\\n        2. Personalized education\\n        3. Healthcare\\n        4. Transportation\\n        5. Entertainment\\n    C. Discussion on how these advancements could change our daily routines\\n\\nIV. The Impact of AI on Society\\n    A. Potential benefits of AI advancements\\n    B. Possible challenges and ethical considerations\\n    C. Discussion on how society might adapt to these changes\\n\\nV. Preparing for the Future of AI\\n    A. Importance of understanding and adapting to AI technology\\n    B. Ways individuals can prepare for the future of AI\\n    C. Role of government and educational institutions in preparing society for AI\\n\\nVI. Conclusion\\n    A. Recap of the potential future of AI in everyday life\\n    B. Final thoughts on the importance of embracing and preparing for AI advancements.', additional_kwargs={'refusal': None}, response_metadata={'token_usage': {'completion_tokens': 271, 'prompt_tokens': 25, 'total_tokens': 296, 'completion_tokens_details': {'accepted_prediction_tokens': 0, 'audio_tokens': 0, 'reasoning_tokens': 0, 'rejected_prediction_tokens': 0}, 'prompt_tokens_details': {'audio_tokens': 0, 'cached_tokens': 0}}, 'model_name': 'gpt-4-0613', 'system_fingerprint': None, 'id': 'chatcmpl-CFfj1b2x2xkiHARoJcODN4uHyMIxf', 'service_tier': 'default', 'finish_reason': 'stop', 'logprobs': None}, id='run--80a434ff-ccfb-4af7-9edb-aacb595d1c5a-0', usage_metadata={'input_tokens': 25, 'output_tokens': 271, 'total_tokens': 296, 'input_token_details': {'audio': 0, 'cache_read': 0}, 'output_token_details': {'audio': 0, 'reasoning': 0}}), 'content': AIMessage(content=\"I. Introduction\\n\\nArtificial Intelligence (AI) is no longer a concept confined to science fiction novels or high-tech laboratories. It has seamlessly integrated into our everyday lives, influencing how we work, communicate, and even entertain ourselves. This blog aims to delve into the future of AI in everyday life, providing readers with an understanding of AI, its potential advancements, and how it might reshape our daily routines and society at large.\\n\\nII. Understanding AI\\n\\nAI, or Artificial Intelligence, refers to the simulation of human intelligence processes by machines, especially computer systems. These processes include learning, reasoning, problem-solving, perception, and language understanding. The concept of AI was first introduced in the mid-20th century, and since then, it has evolved significantly. Today, AI is everywhere - from voice assistants like Siri and Alexa to recommendation algorithms on Netflix and Amazon.\\n\\nIII. The Future of AI in Everyday Life\\n\\nAs we look towards the future, AI is predicted to become even more ingrained in our daily lives. Here are some potential new applications:\\n\\n1. Home automation: AI could make our homes smarter and more efficient, controlling everything from lighting and temperature to security systems.\\n\\n2. Personalized education: AI could tailor educational content to individual students' needs, improving learning outcomes.\\n\\n3. Healthcare: AI could assist in diagnosing diseases, predicting health risks, and personalizing treatment plans.\\n\\n4. Transportation: AI could revolutionize transportation through autonomous vehicles and smart traffic management systems.\\n\\n5. Entertainment: AI could create personalized entertainment experiences, from customizing TV show recommendations to creating interactive, immersive video games.\\n\\nThese advancements could significantly alter our daily routines, making our lives more convenient, efficient, and personalized.\\n\\nIV. The Impact of AI on Society\\n\\nWhile the benefits of AI advancements are numerous, they also present challenges and ethical considerations. For instance, AI could lead to job displacement in certain sectors, and there are concerns about privacy and security. As society adapts to these changes, it will be crucial to address these issues and ensure that the benefits of AI are accessible to all.\\n\\nV. Preparing for the Future of AI\\n\\nUnderstanding and adapting to AI technology is essential for individuals, governments, and educational institutions alike. Individuals can prepare by staying informed about AI advancements and learning relevant skills. Governments and educational institutions have a role in regulating AI development, addressing ethical concerns, and ensuring that education systems prepare students for a future where AI is ubiquitous.\\n\\nVI. Conclusion\\n\\nThe future of AI in everyday life holds immense potential. From home automation to personalized education, healthcare, transportation, and entertainment, AI could revolutionize our daily routines. However, it's crucial to embrace these advancements while also addressing the challenges they present. By understanding and preparing for AI, we can ensure that we harness its potential to improve our lives and society.\", additional_kwargs={'refusal': None}, response_metadata={'token_usage': {'completion_tokens': 566, 'prompt_tokens': 557, 'total_tokens': 1123, 'completion_tokens_details': {'accepted_prediction_tokens': 0, 'audio_tokens': 0, 'reasoning_tokens': 0, 'rejected_prediction_tokens': 0}, 'prompt_tokens_details': {'audio_tokens': 0, 'cached_tokens': 0}}, 'model_name': 'gpt-4-0613', 'system_fingerprint': None, 'id': 'chatcmpl-CFfjBhJpoRLL7Ky8UjuBXO7VbnQXF', 'service_tier': 'default', 'finish_reason': 'stop', 'logprobs': None}, id='run--add4b458-493f-4356-8e63-364b227fddb3-0', usage_metadata={'input_tokens': 557, 'output_tokens': 566, 'total_tokens': 1123, 'input_token_details': {'audio': 0, 'cache_read': 0}, 'output_token_details': {'audio': 0, 'reasoning': 0}})}\n"
     ]
    }
   ],
   "source": [
    "initial_state = { 'title': 'The Future of AI in Everyday Life' }\n",
    "\n",
    "final_state = workflow.invoke(initial_state)\n",
    "\n",
    "print(final_state)\n"
   ]
  },
  {
   "cell_type": "code",
   "execution_count": 47,
   "metadata": {},
   "outputs": [
    {
     "name": "stdout",
     "output_type": "stream",
     "text": [
      "content=\"I. Introduction\\n\\nArtificial Intelligence (AI) is no longer a concept confined to science fiction novels or high-tech laboratories. It has seamlessly integrated into our everyday lives, influencing how we work, communicate, and even entertain ourselves. This blog aims to delve into the future of AI in everyday life, providing readers with an understanding of AI, its potential advancements, and how it might reshape our daily routines and society at large.\\n\\nII. Understanding AI\\n\\nAI, or Artificial Intelligence, refers to the simulation of human intelligence processes by machines, especially computer systems. These processes include learning, reasoning, problem-solving, perception, and language understanding. The concept of AI was first introduced in the mid-20th century, and since then, it has evolved significantly. Today, AI is everywhere - from voice assistants like Siri and Alexa to recommendation algorithms on Netflix and Amazon.\\n\\nIII. The Future of AI in Everyday Life\\n\\nAs we look towards the future, AI is predicted to become even more ingrained in our daily lives. Here are some potential new applications:\\n\\n1. Home automation: AI could make our homes smarter and more efficient, controlling everything from lighting and temperature to security systems.\\n\\n2. Personalized education: AI could tailor educational content to individual students' needs, improving learning outcomes.\\n\\n3. Healthcare: AI could assist in diagnosing diseases, predicting health risks, and personalizing treatment plans.\\n\\n4. Transportation: AI could revolutionize transportation through autonomous vehicles and smart traffic management systems.\\n\\n5. Entertainment: AI could create personalized entertainment experiences, from customizing TV show recommendations to creating interactive, immersive video games.\\n\\nThese advancements could significantly alter our daily routines, making our lives more convenient, efficient, and personalized.\\n\\nIV. The Impact of AI on Society\\n\\nWhile the benefits of AI advancements are numerous, they also present challenges and ethical considerations. For instance, AI could lead to job displacement in certain sectors, and there are concerns about privacy and security. As society adapts to these changes, it will be crucial to address these issues and ensure that the benefits of AI are accessible to all.\\n\\nV. Preparing for the Future of AI\\n\\nUnderstanding and adapting to AI technology is essential for individuals, governments, and educational institutions alike. Individuals can prepare by staying informed about AI advancements and learning relevant skills. Governments and educational institutions have a role in regulating AI development, addressing ethical concerns, and ensuring that education systems prepare students for a future where AI is ubiquitous.\\n\\nVI. Conclusion\\n\\nThe future of AI in everyday life holds immense potential. From home automation to personalized education, healthcare, transportation, and entertainment, AI could revolutionize our daily routines. However, it's crucial to embrace these advancements while also addressing the challenges they present. By understanding and preparing for AI, we can ensure that we harness its potential to improve our lives and society.\" additional_kwargs={'refusal': None} response_metadata={'token_usage': {'completion_tokens': 566, 'prompt_tokens': 557, 'total_tokens': 1123, 'completion_tokens_details': {'accepted_prediction_tokens': 0, 'audio_tokens': 0, 'reasoning_tokens': 0, 'rejected_prediction_tokens': 0}, 'prompt_tokens_details': {'audio_tokens': 0, 'cached_tokens': 0}}, 'model_name': 'gpt-4-0613', 'system_fingerprint': None, 'id': 'chatcmpl-CFfjBhJpoRLL7Ky8UjuBXO7VbnQXF', 'service_tier': 'default', 'finish_reason': 'stop', 'logprobs': None} id='run--add4b458-493f-4356-8e63-364b227fddb3-0' usage_metadata={'input_tokens': 557, 'output_tokens': 566, 'total_tokens': 1123, 'input_token_details': {'audio': 0, 'cache_read': 0}, 'output_token_details': {'audio': 0, 'reasoning': 0}}\n"
     ]
    }
   ],
   "source": [
    "print(final_state['content'])"
   ]
  },
  {
   "cell_type": "code",
   "execution_count": 48,
   "metadata": {},
   "outputs": [
    {
     "data": {
      "image/png": "[encoded data removed]",
      "text/plain": [
       "<IPython.core.display.Image object>"
      ]
     },
     "execution_count": 48,
     "metadata": {},
     "output_type": "execute_result"
    }
   ],
   "source": [
    "from IPython.display import Image\n",
    "Image(workflow.get_graph().draw_mermaid_png())"
   ]
  },
  {
   "cell_type": "code",
   "execution_count": null,
   "metadata": {},
   "outputs": [],
   "source": []
  }
 ],
 "metadata": {
  "kernelspec": {
   "display_name": "venv",
   "language": "python",
   "name": "python3"
  },
  "language_info": {
   "codemirror_mode": {
    "name": "ipython",
    "version": 3
   },
   "file_extension": ".py",
   "mimetype": "text/x-python",
   "name": "python",
   "nbconvert_exporter": "python",
   "pygments_lexer": "ipython3",
   "version": "3.13.3"
  }
 },
 "nbformat": 4,
 "nbformat_minor": 2
}
