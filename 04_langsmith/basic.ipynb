{
 "cells": [
  {
   "cell_type": "code",
   "execution_count": 2,
   "metadata": {},
   "outputs": [
    {
     "name": "stdout",
     "output_type": "stream",
     "text": [
      "The capital of Peru is Lima.\n"
     ]
    }
   ],
   "source": [
    "from dotenv import load_dotenv\n",
    "from langchain_openai import ChatOpenAI\n",
    "from langchain_core.prompts import PromptTemplate\n",
    "from langchain_core.output_parsers import StrOutputParser\n",
    "import os\n",
    "\n",
    "load_dotenv()\n",
    "\n",
    "#os.environ[\"LANGCHAIN_PROJECT\"] = \"Sequential Chains\"\n",
    "\n",
    "# Simple one-line prompt\n",
    "prompt = PromptTemplate.from_template(\"{question}\")\n",
    "\n",
    "model = ChatOpenAI()\n",
    "parser = StrOutputParser()\n",
    "\n",
    "# Chain: prompt → model → parser\n",
    "chain = prompt | model | parser\n",
    "\n",
    "config ={ \n",
    "    'tags' : ['llm app', 'report generation', 'summarization'],\n",
    "    'metadata' : { 'model1' : 'gpt-4o-mini', 'model1_temp' : 0.2, 'parser': 'stroutputparser' }\n",
    "   }\n",
    "\n",
    "# Run it\n",
    "result = chain.invoke({\"question\": \"What is the capital of Peru112?\"}, config=config)\n",
    "print(result)"
   ]
  },
  {
   "cell_type": "code",
   "execution_count": null,
   "metadata": {},
   "outputs": [],
   "source": []
  }
 ],
 "metadata": {
  "kernelspec": {
   "display_name": "venv",
   "language": "python",
   "name": "python3"
  },
  "language_info": {
   "codemirror_mode": {
    "name": "ipython",
    "version": 3
   },
   "file_extension": ".py",
   "mimetype": "text/x-python",
   "name": "python",
   "nbconvert_exporter": "python",
   "pygments_lexer": "ipython3",
   "version": "3.13.3"
  }
 },
 "nbformat": 4,
 "nbformat_minor": 2
}
